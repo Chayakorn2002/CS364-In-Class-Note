{
 "cells": [
  {
   "cell_type": "code",
   "execution_count": 1,
   "metadata": {},
   "outputs": [],
   "source": [
    "import os"
   ]
  },
  {
   "cell_type": "code",
   "execution_count": 2,
   "metadata": {},
   "outputs": [],
   "source": [
    "from __future__ import print_function\n",
    "import random, numpy as np\n",
    "import keras, tensorflow as tf\n",
    "\n",
    "from keras.datasets import cifar10\n",
    "from keras.preprocessing.image import ImageDataGenerator\n",
    "from keras.models import Sequential\n",
    "from keras.layers import Dense, Dropout, Activation, Flatten, Conv2D, MaxPooling2D\n",
    "from sklearn.metrics import confusion_matrix, classification_report, ConfusionMatrixDisplay\n",
    "\n",
    "from matplotlib.ticker import MaxNLocator\n",
    "import matplotlib.pyplot as plt\n",
    "%matplotlib inline"
   ]
  },
  {
   "cell_type": "code",
   "execution_count": 3,
   "metadata": {},
   "outputs": [
    {
     "data": {
      "text/plain": [
       "[]"
      ]
     },
     "execution_count": 3,
     "metadata": {},
     "output_type": "execute_result"
    }
   ],
   "source": [
    "def set_seed(seed=42):\n",
    "    random.seed(seed)\n",
    "    np.random.seed(seed)\n",
    "    tf.random.set_seed(seed)\n",
    "    os.environ['PYTHONHASHSEED'] = str(seed)\n",
    "\n",
    "tf.config.list_physical_devices('GPU')"
   ]
  },
  {
   "cell_type": "code",
   "execution_count": 4,
   "metadata": {},
   "outputs": [],
   "source": [
    "class_names = ['airplane','automobile','bird','cat','deer','dog','frog','horse','ship','truck']"
   ]
  },
  {
   "cell_type": "code",
   "execution_count": 5,
   "metadata": {},
   "outputs": [
    {
     "name": "stdout",
     "output_type": "stream",
     "text": [
      "x_train shape: (50000, 32, 32, 3)\n",
      "50000 train samples\n",
      "10000 test samples\n"
     ]
    }
   ],
   "source": [
    "(x_train, y_train), (x_test, y_test) = cifar10.load_data()\n",
    "print('x_train shape:', x_train.shape)\n",
    "\n",
    "print(x_train.shape[0], 'train samples')\n",
    "print(x_test.shape[0], 'test samples')"
   ]
  },
  {
   "cell_type": "code",
   "execution_count": 7,
   "metadata": {},
   "outputs": [],
   "source": [
    "num_classes = 10\n",
    "\n",
    "y_train = keras.utils.to_categorical(y_train, num_classes)\n",
    "y_test = keras.utils.to_categorical(y_test, num_classes)"
   ]
  },
  {
   "cell_type": "code",
   "execution_count": 8,
   "metadata": {},
   "outputs": [],
   "source": [
    "x_train = x_train.astype('float32') / 255\n",
    "x_test = x_test.astype('float32') / 255"
   ]
  },
  {
   "cell_type": "code",
   "execution_count": 10,
   "metadata": {},
   "outputs": [
    {
     "name": "stdout",
     "output_type": "stream",
     "text": [
      "Model: \"sequential_1\"\n",
      "_________________________________________________________________\n",
      " Layer (type)                Output Shape              Param #   \n",
      "=================================================================\n",
      " conv2d_2 (Conv2D)           (None, 16, 16, 32)        2432      \n",
      "                                                                 \n",
      " conv2d_3 (Conv2D)           (None, 6, 6, 32)          25632     \n",
      "                                                                 \n",
      " max_pooling2d_1 (MaxPoolin  (None, 3, 3, 32)          0         \n",
      " g2D)                                                            \n",
      "                                                                 \n",
      " flatten_1 (Flatten)         (None, 288)               0         \n",
      "                                                                 \n",
      " dense_2 (Dense)             (None, 512)               147968    \n",
      "                                                                 \n",
      " dense_3 (Dense)             (None, 10)                5130      \n",
      "                                                                 \n",
      "=================================================================\n",
      "Total params: 181162 (707.66 KB)\n",
      "Trainable params: 181162 (707.66 KB)\n",
      "Non-trainable params: 0 (0.00 Byte)\n",
      "_________________________________________________________________\n"
     ]
    }
   ],
   "source": [
    "set_seed(12345)\n",
    "\n",
    "model = Sequential()\n",
    "\n",
    "model.add(Conv2D(32, (5, 5), strides=(2, 2), padding='same',\n",
    "                 input_shape=x_train.shape[1:], activation='relu'))\n",
    "model.add(Conv2D(32, (5, 5), strides=(2, 2), activation='relu'))\n",
    "model.add(MaxPooling2D(pool_size=(2, 2)))\n",
    "\n",
    "model.add(Flatten())\n",
    "model.add(Dense(512, activation='relu'))\n",
    "model.add(Dense(num_classes, activation='softmax'))\n",
    "\n",
    "model.summary()"
   ]
  },
  {
   "cell_type": "code",
   "execution_count": 11,
   "metadata": {},
   "outputs": [
    {
     "name": "stderr",
     "output_type": "stream",
     "text": [
      "WARNING:absl:At this time, the v2.11+ optimizer `tf.keras.optimizers.RMSprop` runs slowly on M1/M2 Macs, please use the legacy Keras optimizer instead, located at `tf.keras.optimizers.legacy.RMSprop`.\n"
     ]
    },
    {
     "name": "stdout",
     "output_type": "stream",
     "text": [
      "Epoch 1/10\n",
      "1563/1563 [==============================] - 6s 4ms/step - loss: 1.6116 - accuracy: 0.4210 - val_loss: 1.4953 - val_accuracy: 0.4699\n",
      "Epoch 2/10\n",
      "1563/1563 [==============================] - 6s 4ms/step - loss: 1.2824 - accuracy: 0.5412 - val_loss: 1.2304 - val_accuracy: 0.5583\n",
      "Epoch 3/10\n",
      "1563/1563 [==============================] - 6s 4ms/step - loss: 1.1380 - accuracy: 0.6003 - val_loss: 1.1238 - val_accuracy: 0.6015\n",
      "Epoch 4/10\n",
      "1563/1563 [==============================] - 6s 4ms/step - loss: 1.0353 - accuracy: 0.6378 - val_loss: 1.1205 - val_accuracy: 0.6067\n",
      "Epoch 5/10\n",
      "1563/1563 [==============================] - 6s 4ms/step - loss: 0.9549 - accuracy: 0.6666 - val_loss: 1.0384 - val_accuracy: 0.6387\n",
      "Epoch 6/10\n",
      "1563/1563 [==============================] - 6s 4ms/step - loss: 0.8838 - accuracy: 0.6913 - val_loss: 1.0680 - val_accuracy: 0.6324\n",
      "Epoch 7/10\n",
      "1563/1563 [==============================] - 6s 4ms/step - loss: 0.8219 - accuracy: 0.7128 - val_loss: 0.9869 - val_accuracy: 0.6648\n",
      "Epoch 8/10\n",
      "1563/1563 [==============================] - 6s 4ms/step - loss: 0.7639 - accuracy: 0.7345 - val_loss: 0.9778 - val_accuracy: 0.6677\n",
      "Epoch 9/10\n",
      "1563/1563 [==============================] - 6s 4ms/step - loss: 0.7171 - accuracy: 0.7524 - val_loss: 1.0059 - val_accuracy: 0.6619\n",
      "Epoch 10/10\n",
      "1563/1563 [==============================] - 6s 4ms/step - loss: 0.6699 - accuracy: 0.7671 - val_loss: 1.0105 - val_accuracy: 0.6622\n"
     ]
    }
   ],
   "source": [
    "batch_size = 32\n",
    "\n",
    "opt = keras.optimizers.RMSprop(learning_rate=0.0005)\n",
    "\n",
    "model.compile(loss='categorical_crossentropy',\n",
    "                optimizer=opt,\n",
    "                metrics=['accuracy'])\n",
    "\n",
    "history = model.fit(x_train, y_train,\n",
    "                    batch_size=batch_size,\n",
    "                    epochs=10,\n",
    "                    validation_data=(x_test, y_test),\n",
    "                    shuffle=True)"
   ]
  },
  {
   "cell_type": "code",
   "execution_count": 20,
   "metadata": {},
   "outputs": [
    {
     "data": {
      "text/plain": [
       "[<matplotlib.lines.Line2D at 0x175ed4c40>]"
      ]
     },
     "execution_count": 20,
     "metadata": {},
     "output_type": "execute_result"
    },
    {
     "data": {
      "image/png": "[encoded data removed]",
      "text/plain": [
       "<Figure size 800x320 with 1 Axes>"
      ]
     },
     "metadata": {},
     "output_type": "display_data"
    }
   ],
   "source": [
    "fig = plt.figure(figsize=(10, 4), dpi=80)\n",
    "ax = fig.add_subplot(1, 2, 1)\n",
    "ax.xaxis.set_major_locator(MaxNLocator(integer=True))\n",
    "ax.plot(history.history['accuracy'])\n",
    "ax.plot(history.history['val_accuracy'])\n",
    "ax.set_title('Accuracy')\n",
    "ax.set_ylabel('Accuracy')\n",
    "ax.set_xlabel('epoch')\n",
    "ax.\n"
   ]
  },
  {
   "cell_type": "code",
   "execution_count": 13,
   "metadata": {},
   "outputs": [],
   "source": [
    "model2 = Sequential()\n",
    "\n",
    "model2.add(Conv2D(32, (5, 5), strides=(2, 2), padding='same', \n",
    "                  input_shape=x_train.shape[1:], activation='relu'))\n",
    "# model2.add()"
   ]
  },
  {
   "cell_type": "code",
   "execution_count": 19,
   "metadata": {},
   "outputs": [
    {
     "data": {
      "text/plain": [
       "(32, 32, 3)"
      ]
     },
     "execution_count": 19,
     "metadata": {},
     "output_type": "execute_result"
    }
   ],
   "source": [
    "x_train.shape[1:]"
   ]
  },
  {
   "cell_type": "code",
   "execution_count": null,
   "metadata": {},
   "outputs": [],
   "source": []
  }
 ],
 "metadata": {
  "kernelspec": {
   "display_name": "Python 3",
   "language": "python",
   "name": "python3"
  },
  "language_info": {
   "codemirror_mode": {
    "name": "ipython",
    "version": 3
   },
   "file_extension": ".py",
   "mimetype": "text/x-python",
   "name": "python",
   "nbconvert_exporter": "python",
   "pygments_lexer": "ipython3",
   "version": "3.10.11"
  }
 },
 "nbformat": 4,
 "nbformat_minor": 2
}
